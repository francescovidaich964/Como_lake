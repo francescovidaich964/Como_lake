{
 "cells": [
  {
   "cell_type": "markdown",
   "metadata": {},
   "source": [
    "# Como lake data exploration\n",
    "\n",
    "Data obtained from the archive of *ARPA Lombardia* ([link](https://www.arpalombardia.it/Pages/Ricerca-Dati-ed-Indicatori.aspx)), we will use tables \"Afflussi settimanali per bacino\" for all the available years (2011-2018), expressed in $m^3 \\cdot 10^6$."
   ]
  },
  {
   "cell_type": "code",
   "execution_count": 1,
   "metadata": {},
   "outputs": [],
   "source": [
    "import pandas as pd\n",
    "import os\n",
    "import datetime"
   ]
  },
  {
   "cell_type": "markdown",
   "metadata": {},
   "source": [
    "First, import the different datasets and build the complete one:"
   ]
  },
  {
   "cell_type": "code",
   "execution_count": 258,
   "metadata": {},
   "outputs": [
    {
     "name": "stdout",
     "output_type": "stream",
     "text": [
      "afflussi_sett_2011.xlsx\n",
      "afflussi_sett_2012.xlsx\n",
      "afflussi_sett_2013.xlsx\n",
      "afflussi_sett_2014.xlsx\n",
      "afflussi_sett_2015.xlsx\n",
      "afflussi_sett_2016.xlsx\n",
      "afflussi_sett_2017.xlsx\n",
      "afflussi_sett_2018.xlsx\n"
     ]
    }
   ],
   "source": [
    "# Get the names of the files\n",
    "filenames = os.listdir('data')\n",
    "filenames.sort()\n",
    "\n",
    "# Get data from the files and concatenate them in a single df\n",
    "full_df = pd.DataFrame()\n",
    "\n",
    "for name in list(filenames):\n",
    "    \n",
    "    # Read data\n",
    "    print(name)\n",
    "    df = pd.read_excel('data/'+name, \n",
    "                       skiprows = range(0,12),\n",
    "                       usecols = 'A,I,J')\n",
    "    \n",
    "    # Remove empty rows\n",
    "    df = df.dropna(axis=0, how='all') \n",
    "    \n",
    "    # Split week interval into two columns (start and end week)\n",
    "    # (We have to be careful because date written in 2 different ways in the files)\n",
    "    if df['SETTIMANA'][0][:5] == \"01/01\":\n",
    "        df['From'] = df['SETTIMANA'].str[:5]\n",
    "        df['To']   = df['SETTIMANA'].str[-5:]\n",
    "    elif df['SETTIMANA'][0][:3] == \"1/1\":\n",
    "        df[['From','To']] = df['SETTIMANA'].str.split(\"-\",expand=True,)\n",
    "    else:\n",
    "        print('\\n\\n There is a problem in the date format \\n\\n')\n",
    "        \n",
    "    df.drop(['SETTIMANA'], axis=1)\n",
    "    df = df[['From','To','ADDA PRELACUALE','MERA']]\n",
    "    \n",
    "    # Convert dates strings into datetimes\n",
    "    year = name[14:18]\n",
    "    df['From'] = df['From'] + '/' + year\n",
    "    df['To']   = df['To']   + '/' + year\n",
    "    df['From'] = pd.to_datetime(df['From'], format='%d/%m/%Y')\n",
    "    df['To']   = pd.to_datetime(df['To'], format='%d/%m/%Y')\n",
    "    \n",
    "    # Build full dataset to contain all years\n",
    "    full_df = pd.concat([full_df,df]).reset_index(drop=True)\n",
    "    \n",
    "    \n",
    "# Reset indexes of the full dataset \n",
    "# (before, indexes restart at each year) \n",
    "full_df = full_df.reset_index(drop=True)\n",
    "#orig_df = full_df"
   ]
  },
  {
   "cell_type": "markdown",
   "metadata": {},
   "source": [
    "At the moment each row represents the weekly inflows but, if a week is spanned between two moths/years, it is splitted in two entries.</br>\n",
    "Now we will join those portions of weeks to have a uniform unit of time (a week)."
   ]
  },
  {
   "cell_type": "code",
   "execution_count": 259,
   "metadata": {
    "scrolled": true
   },
   "outputs": [
    {
     "name": "stderr",
     "output_type": "stream",
     "text": [
      "<ipython-input-259-7a65947efdb5>:11: SettingWithCopyWarning: \n",
      "A value is trying to be set on a copy of a slice from a DataFrame\n",
      "\n",
      "See the caveats in the documentation: https://pandas.pydata.org/pandas-docs/stable/user_guide/indexing.html#returning-a-view-versus-a-copy\n",
      "  full_df['To'][partial_weeks] = full_df['To'][partial_weeks+1]\n"
     ]
    }
   ],
   "source": [
    "# Find rows that do not represent full weeks (pairs of rows)\n",
    "week_len = (full_df['To'] - full_df['From'])[1:-1]\n",
    "partial_weeks = week_len.index[week_len!=datetime.timedelta(days=6)][::2]\n",
    "\n",
    "# Add inflow values between these splitted weeks\n",
    "inflows = (full_df.reset_index()\n",
    "                  .replace({'index': dict(zip(partial_weeks+1,partial_weeks))})\n",
    "                  .groupby('index', sort=False).sum() )\n",
    "\n",
    "# Update end-date of the first portion of these weeks\n",
    "full_df['To'][partial_weeks] = full_df['To'][partial_weeks+1]\n",
    "\n",
    "# Remove second portions of the partial weeks and add complete inflows\n",
    "full_df[['ADDA PRELACUALE','MERA']] = inflows\n",
    "full_df = full_df.drop(partial_weeks+1)\n"
   ]
  },
  {
   "cell_type": "code",
   "execution_count": 260,
   "metadata": {},
   "outputs": [
    {
     "data": {
      "text/plain": [
       "Int64Index([178], dtype='int64')"
      ]
     },
     "execution_count": 260,
     "metadata": {},
     "output_type": "execute_result"
    }
   ],
   "source": [
    "### TEST ###\n",
    "\n",
    "# Find rows that do not represent full weeks (pairs of rows)\n",
    "week_len = (full_df['To'] - full_df['From'])[1:-1]\n",
    "partial_weeks = week_len.index[week_len!=datetime.timedelta(days=6)][::2]\n",
    "partial_weeks"
   ]
  },
  {
   "cell_type": "code",
   "execution_count": 261,
   "metadata": {},
   "outputs": [
    {
     "data": {
      "text/html": [
       "<div>\n",
       "<style scoped>\n",
       "    .dataframe tbody tr th:only-of-type {\n",
       "        vertical-align: middle;\n",
       "    }\n",
       "\n",
       "    .dataframe tbody tr th {\n",
       "        vertical-align: top;\n",
       "    }\n",
       "\n",
       "    .dataframe thead th {\n",
       "        text-align: right;\n",
       "    }\n",
       "</style>\n",
       "<table border=\"1\" class=\"dataframe\">\n",
       "  <thead>\n",
       "    <tr style=\"text-align: right;\">\n",
       "      <th></th>\n",
       "      <th>From</th>\n",
       "      <th>To</th>\n",
       "      <th>ADDA PRELACUALE</th>\n",
       "      <th>MERA</th>\n",
       "    </tr>\n",
       "  </thead>\n",
       "  <tbody>\n",
       "    <tr>\n",
       "      <th>0</th>\n",
       "      <td>2011-01-01</td>\n",
       "      <td>2011-01-02</td>\n",
       "      <td>0.0</td>\n",
       "      <td>0.1</td>\n",
       "    </tr>\n",
       "    <tr>\n",
       "      <th>1</th>\n",
       "      <td>2011-01-03</td>\n",
       "      <td>2011-01-09</td>\n",
       "      <td>71.4</td>\n",
       "      <td>41.1</td>\n",
       "    </tr>\n",
       "    <tr>\n",
       "      <th>2</th>\n",
       "      <td>2011-01-10</td>\n",
       "      <td>2011-01-16</td>\n",
       "      <td>53.7</td>\n",
       "      <td>13.2</td>\n",
       "    </tr>\n",
       "    <tr>\n",
       "      <th>3</th>\n",
       "      <td>2011-01-17</td>\n",
       "      <td>2011-01-23</td>\n",
       "      <td>0.2</td>\n",
       "      <td>0.2</td>\n",
       "    </tr>\n",
       "    <tr>\n",
       "      <th>4</th>\n",
       "      <td>2011-01-24</td>\n",
       "      <td>2011-01-30</td>\n",
       "      <td>0.3</td>\n",
       "      <td>0.1</td>\n",
       "    </tr>\n",
       "    <tr>\n",
       "      <th>...</th>\n",
       "      <td>...</td>\n",
       "      <td>...</td>\n",
       "      <td>...</td>\n",
       "      <td>...</td>\n",
       "    </tr>\n",
       "    <tr>\n",
       "      <th>487</th>\n",
       "      <td>2018-12-03</td>\n",
       "      <td>2018-12-09</td>\n",
       "      <td>15.4</td>\n",
       "      <td>7.6</td>\n",
       "    </tr>\n",
       "    <tr>\n",
       "      <th>488</th>\n",
       "      <td>2018-12-10</td>\n",
       "      <td>2018-12-16</td>\n",
       "      <td>3.1</td>\n",
       "      <td>0.9</td>\n",
       "    </tr>\n",
       "    <tr>\n",
       "      <th>489</th>\n",
       "      <td>2018-12-17</td>\n",
       "      <td>2018-12-23</td>\n",
       "      <td>13.1</td>\n",
       "      <td>6.4</td>\n",
       "    </tr>\n",
       "    <tr>\n",
       "      <th>490</th>\n",
       "      <td>2018-12-24</td>\n",
       "      <td>2018-12-30</td>\n",
       "      <td>8.6</td>\n",
       "      <td>4.7</td>\n",
       "    </tr>\n",
       "    <tr>\n",
       "      <th>491</th>\n",
       "      <td>2018-12-31</td>\n",
       "      <td>2018-12-31</td>\n",
       "      <td>0.1</td>\n",
       "      <td>0.0</td>\n",
       "    </tr>\n",
       "  </tbody>\n",
       "</table>\n",
       "<p>419 rows × 4 columns</p>\n",
       "</div>"
      ],
      "text/plain": [
       "          From         To  ADDA PRELACUALE  MERA\n",
       "0   2011-01-01 2011-01-02              0.0   0.1\n",
       "1   2011-01-03 2011-01-09             71.4  41.1\n",
       "2   2011-01-10 2011-01-16             53.7  13.2\n",
       "3   2011-01-17 2011-01-23              0.2   0.2\n",
       "4   2011-01-24 2011-01-30              0.3   0.1\n",
       "..         ...        ...              ...   ...\n",
       "487 2018-12-03 2018-12-09             15.4   7.6\n",
       "488 2018-12-10 2018-12-16              3.1   0.9\n",
       "489 2018-12-17 2018-12-23             13.1   6.4\n",
       "490 2018-12-24 2018-12-30              8.6   4.7\n",
       "491 2018-12-31 2018-12-31              0.1   0.0\n",
       "\n",
       "[419 rows x 4 columns]"
      ]
     },
     "execution_count": 261,
     "metadata": {},
     "output_type": "execute_result"
    }
   ],
   "source": [
    "full_df"
   ]
  },
  {
   "cell_type": "code",
   "execution_count": null,
   "metadata": {},
   "outputs": [],
   "source": []
  }
 ],
 "metadata": {
  "kernelspec": {
   "display_name": "Python 3",
   "language": "python",
   "name": "python3"
  },
  "language_info": {
   "codemirror_mode": {
    "name": "ipython",
    "version": 3
   },
   "file_extension": ".py",
   "mimetype": "text/x-python",
   "name": "python",
   "nbconvert_exporter": "python",
   "pygments_lexer": "ipython3",
   "version": "3.8.3"
  }
 },
 "nbformat": 4,
 "nbformat_minor": 4
}
