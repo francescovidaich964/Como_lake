{
 "cells": [
  {
   "cell_type": "markdown",
   "metadata": {},
   "source": [
    "# RL tests with gym env"
   ]
  },
  {
   "cell_type": "code",
   "execution_count": 1,
   "metadata": {},
   "outputs": [],
   "source": [
    "# autoreload allows to update modules without resetting the kernel \n",
    "%load_ext autoreload\n",
    "%autoreload 2"
   ]
  },
  {
   "cell_type": "code",
   "execution_count": 2,
   "metadata": {},
   "outputs": [],
   "source": [
    "import numpy as np\n",
    "import matplotlib.pyplot as plt\n",
    "\n",
    "### Import funtion that \"does everything\"\n",
    "import sys, os, datetime\n",
    "sys.path.insert(1, '../IS_non_stationary_RL/')\n",
    "\n",
    "from optimize_rl import run_then_optimize, intertwine_run_optimize"
   ]
  },
  {
   "cell_type": "code",
   "execution_count": 4,
   "metadata": {},
   "outputs": [
    {
     "name": "stderr",
     "output_type": "stream",
     "text": [
      "06/03/2021 16:51:27: Sampling seed 1.\n",
      "06/03/2021 16:51:27: Optimize seed 1.\n",
      "  0%|          | 0/100 [00:00<?, ?it/s]"
     ]
    },
    {
     "name": "stdout",
     "output_type": "stream",
     "text": [
      "torch.Size([1000, 1])\n",
      "torch.Size([1000])\n",
      "torch.Size([1000, 1])\n",
      "torch.Size([1000])\n",
      "torch.Size([1000, 1])\n",
      "torch.Size([1000])\n",
      "torch.Size([1000, 1])\n",
      "torch.Size([1000])\n",
      "torch.Size([1000, 1])\n",
      "torch.Size([1000])\n"
     ]
    },
    {
     "name": "stderr",
     "output_type": "stream",
     "text": [
      "  0%|          | 0/100 [00:01<?, ?it/s]"
     ]
    },
    {
     "name": "stdout",
     "output_type": "stream",
     "text": [
      "torch.Size([1000, 1])\n",
      "torch.Size([1000])\n"
     ]
    },
    {
     "name": "stderr",
     "output_type": "stream",
     "text": [
      "\n"
     ]
    },
    {
     "ename": "KeyboardInterrupt",
     "evalue": "",
     "output_type": "error",
     "traceback": [
      "\u001b[0;31m---------------------------------------------------------------------------\u001b[0m",
      "\u001b[0;31mKeyboardInterrupt\u001b[0m                         Traceback (most recent call last)",
      "\u001b[0;32m<ipython-input-4-40683939d8c4>\u001b[0m in \u001b[0;36m<module>\u001b[0;34m\u001b[0m\n\u001b[1;32m     69\u001b[0m \u001b[0;34m\u001b[0m\u001b[0m\n\u001b[1;32m     70\u001b[0m \u001b[0;34m\u001b[0m\u001b[0m\n\u001b[0;32m---> 71\u001b[0;31m \u001b[0mrun_then_optimize\u001b[0m\u001b[0;34m(\u001b[0m \u001b[0;34m**\u001b[0m\u001b[0mall_args\u001b[0m \u001b[0;34m)\u001b[0m\u001b[0;34m\u001b[0m\u001b[0;34m\u001b[0m\u001b[0m\n\u001b[0m",
      "\u001b[0;32m~/UNIPD/Polimi_Thesis/IS_non_stationary_RL/optimize_rl.py\u001b[0m in \u001b[0;36mrun_then_optimize\u001b[0;34m(n_steps_sample, epochs_optim, hyperpolicy_class, policy_class, env_class, save_folder, optimizer_class, alpha, learning_rate, lamb_J_1, lamb_J_2, lamb_v, mean_reward, sigma_c, sigma_theta_behavioural, sigma_theta_init, sigma_r, A_c, A_theta_behavioural, A_theta_init, A_r, psi_c, psi_theta_behavioural, psi_theta_init, psi_r, phi_c, phi_theta_behavioural, phi_theta_init, phi_r, B_c, B_theta_behavioural, B_theta_init, B_r, n_sin, sample_every, use_modulo, R_inf, grad_replicas, beta, rbf_nodes, sigma_rbf, infer_centers, infer_stds, alpha_env, beta_env, seeds, param_based, n_neurons, omega, penalty_on)\u001b[0m\n\u001b[1;32m    100\u001b[0m         \u001b[0mstates\u001b[0m \u001b[0;34m=\u001b[0m \u001b[0mstates\u001b[0m\u001b[0;34m[\u001b[0m\u001b[0;34m-\u001b[0m\u001b[0malpha\u001b[0m\u001b[0;34m-\u001b[0m\u001b[0;36m1\u001b[0m\u001b[0;34m:\u001b[0m\u001b[0;34m-\u001b[0m\u001b[0;36m1\u001b[0m\u001b[0;34m]\u001b[0m\u001b[0;34m\u001b[0m\u001b[0;34m\u001b[0m\u001b[0m\n\u001b[1;32m    101\u001b[0m \u001b[0;34m\u001b[0m\u001b[0m\n\u001b[0;32m--> 102\u001b[0;31m         nu_optim, param_epoch, state_epoch, reward_epoch, action_epoch, theta_epoch, J2_epoch, variance_epoch, optimizer, MIS_w_epoch, loss_epoch = optimize(nu=nu_init, \n\u001b[0m\u001b[1;32m    103\u001b[0m             \u001b[0menv\u001b[0m\u001b[0;34m=\u001b[0m\u001b[0menv\u001b[0m\u001b[0;34m,\u001b[0m \u001b[0moptimizer\u001b[0m\u001b[0;34m=\u001b[0m\u001b[0moptimizer\u001b[0m\u001b[0;34m,\u001b[0m \u001b[0mt\u001b[0m\u001b[0;34m=\u001b[0m\u001b[0mn_steps_sample\u001b[0m\u001b[0;34m,\u001b[0m \u001b[0mstate_init\u001b[0m\u001b[0;34m=\u001b[0m\u001b[0mstates\u001b[0m\u001b[0;34m[\u001b[0m\u001b[0;36m0\u001b[0m\u001b[0;34m]\u001b[0m\u001b[0;34m,\u001b[0m \u001b[0mepochs_optim\u001b[0m\u001b[0;34m=\u001b[0m\u001b[0mepochs_optim\u001b[0m\u001b[0;34m,\u001b[0m \u001b[0malpha\u001b[0m\u001b[0;34m=\u001b[0m\u001b[0malpha\u001b[0m\u001b[0;34m,\u001b[0m\u001b[0;34m\u001b[0m\u001b[0;34m\u001b[0m\u001b[0m\n\u001b[1;32m    104\u001b[0m             \u001b[0mbeta\u001b[0m\u001b[0;34m=\u001b[0m\u001b[0mbeta\u001b[0m\u001b[0;34m,\u001b[0m \u001b[0mlamb_J_1\u001b[0m\u001b[0;34m=\u001b[0m\u001b[0mlamb_J_1\u001b[0m\u001b[0;34m,\u001b[0m \u001b[0mlamb_J_2\u001b[0m\u001b[0;34m=\u001b[0m\u001b[0mlamb_J_2\u001b[0m\u001b[0;34m,\u001b[0m \u001b[0mlamb_v\u001b[0m\u001b[0;34m=\u001b[0m\u001b[0mlamb_v\u001b[0m\u001b[0;34m,\u001b[0m\u001b[0;34m\u001b[0m\u001b[0;34m\u001b[0m\u001b[0m\n",
      "\u001b[0;32m~/UNIPD/Polimi_Thesis/IS_non_stationary_RL/optimization/mis_optimization_rl.py\u001b[0m in \u001b[0;36moptimize\u001b[0;34m(nu, env, optimizer, t, state_init, epochs_optim, alpha, beta, lamb_J_1, lamb_J_2, lamb_v, R_inf, grad_replicas, seed)\u001b[0m\n\u001b[1;32m     33\u001b[0m         \u001b[0moptimizer\u001b[0m\u001b[0;34m.\u001b[0m\u001b[0mzero_grad\u001b[0m\u001b[0;34m(\u001b[0m\u001b[0;34m)\u001b[0m\u001b[0;34m\u001b[0m\u001b[0;34m\u001b[0m\u001b[0m\n\u001b[1;32m     34\u001b[0m         \u001b[0;32mfor\u001b[0m \u001b[0mj\u001b[0m \u001b[0;32min\u001b[0m \u001b[0mrange\u001b[0m\u001b[0;34m(\u001b[0m\u001b[0mgrad_replicas\u001b[0m\u001b[0;34m)\u001b[0m\u001b[0;34m:\u001b[0m\u001b[0;34m\u001b[0m\u001b[0;34m\u001b[0m\u001b[0m\n\u001b[0;32m---> 35\u001b[0;31m             \u001b[0mstates\u001b[0m\u001b[0;34m,\u001b[0m \u001b[0mrewards\u001b[0m\u001b[0;34m,\u001b[0m \u001b[0mthetas\u001b[0m\u001b[0;34m,\u001b[0m \u001b[0mactions\u001b[0m \u001b[0;34m=\u001b[0m \u001b[0mreplay_single\u001b[0m\u001b[0;34m(\u001b[0m\u001b[0mnu\u001b[0m\u001b[0;34m,\u001b[0m \u001b[0menv\u001b[0m\u001b[0;34m,\u001b[0m \u001b[0mt\u001b[0m\u001b[0;34m,\u001b[0m \u001b[0mstate_init\u001b[0m\u001b[0;34m=\u001b[0m\u001b[0mstate_init\u001b[0m\u001b[0;34m,\u001b[0m \u001b[0malpha\u001b[0m\u001b[0;34m=\u001b[0m\u001b[0malpha\u001b[0m\u001b[0;34m)\u001b[0m\u001b[0;34m\u001b[0m\u001b[0;34m\u001b[0m\u001b[0m\n\u001b[0m\u001b[1;32m     36\u001b[0m             loss[j], MIS_w = objective_loss(lamb_J_1, lamb_J_2, lamb_v, rewards, thetas, nu, t, \n\u001b[1;32m     37\u001b[0m                     R_inf=R_inf, alpha=alpha, beta=beta,)\n",
      "\u001b[0;32m~/UNIPD/Polimi_Thesis/IS_non_stationary_RL/run_env_rl.py\u001b[0m in \u001b[0;36mreplay_single\u001b[0;34m(nu, env, t, state_init, alpha)\u001b[0m\n\u001b[1;32m     48\u001b[0m \u001b[0;34m\u001b[0m\u001b[0m\n\u001b[1;32m     49\u001b[0m     \u001b[0;32mfor\u001b[0m \u001b[0mi\u001b[0m\u001b[0;34m,\u001b[0m \u001b[0mt_i\u001b[0m \u001b[0;32min\u001b[0m \u001b[0menumerate\u001b[0m\u001b[0;34m(\u001b[0m\u001b[0mrange\u001b[0m\u001b[0;34m(\u001b[0m\u001b[0mt\u001b[0m\u001b[0;34m-\u001b[0m\u001b[0malpha\u001b[0m\u001b[0;34m,\u001b[0m \u001b[0mt\u001b[0m\u001b[0;34m)\u001b[0m\u001b[0;34m)\u001b[0m\u001b[0;34m:\u001b[0m\u001b[0;34m\u001b[0m\u001b[0;34m\u001b[0m\u001b[0m\n\u001b[0;32m---> 50\u001b[0;31m         \u001b[0mpolicy\u001b[0m \u001b[0;34m=\u001b[0m \u001b[0mnu\u001b[0m\u001b[0;34m.\u001b[0m\u001b[0msample_policy\u001b[0m\u001b[0;34m(\u001b[0m\u001b[0mt_i\u001b[0m\u001b[0;34m)\u001b[0m\u001b[0;34m\u001b[0m\u001b[0;34m\u001b[0m\u001b[0m\n\u001b[0m\u001b[1;32m     51\u001b[0m         \u001b[0mthet\u001b[0m\u001b[0;34m[\u001b[0m\u001b[0mi\u001b[0m\u001b[0;34m]\u001b[0m \u001b[0;34m=\u001b[0m \u001b[0mpolicy\u001b[0m\u001b[0;34m.\u001b[0m\u001b[0mtheta\u001b[0m\u001b[0;34m\u001b[0m\u001b[0;34m\u001b[0m\u001b[0m\n\u001b[1;32m     52\u001b[0m \u001b[0;34m\u001b[0m\u001b[0m\n",
      "\u001b[0;32m~/UNIPD/Polimi_Thesis/IS_non_stationary_RL/policy/hyperpolicy_rl.py\u001b[0m in \u001b[0;36msample_policy\u001b[0;34m(self, t)\u001b[0m\n\u001b[1;32m    500\u001b[0m     \u001b[0;32mdef\u001b[0m \u001b[0msample_policy\u001b[0m\u001b[0;34m(\u001b[0m\u001b[0mself\u001b[0m\u001b[0;34m,\u001b[0m \u001b[0mt\u001b[0m\u001b[0;34m)\u001b[0m\u001b[0;34m:\u001b[0m\u001b[0;34m\u001b[0m\u001b[0;34m\u001b[0m\u001b[0m\n\u001b[1;32m    501\u001b[0m         \u001b[0;32mwith\u001b[0m \u001b[0mtorch\u001b[0m\u001b[0;34m.\u001b[0m\u001b[0mno_grad\u001b[0m\u001b[0;34m(\u001b[0m\u001b[0;34m)\u001b[0m\u001b[0;34m:\u001b[0m\u001b[0;34m\u001b[0m\u001b[0;34m\u001b[0m\u001b[0m\n\u001b[0;32m--> 502\u001b[0;31m             \u001b[0mtheta_mean\u001b[0m \u001b[0;34m=\u001b[0m \u001b[0mself\u001b[0m\u001b[0;34m.\u001b[0m\u001b[0mtheta_mean\u001b[0m\u001b[0;34m(\u001b[0m\u001b[0mt\u001b[0m\u001b[0;34m)\u001b[0m\u001b[0;34m\u001b[0m\u001b[0;34m\u001b[0m\u001b[0m\n\u001b[0m\u001b[1;32m    503\u001b[0m \u001b[0;34m\u001b[0m\u001b[0m\n\u001b[1;32m    504\u001b[0m         \u001b[0;32mif\u001b[0m \u001b[0mself\u001b[0m\u001b[0;34m.\u001b[0m\u001b[0mstochastic\u001b[0m\u001b[0;34m:\u001b[0m\u001b[0;34m\u001b[0m\u001b[0;34m\u001b[0m\u001b[0m\n",
      "\u001b[0;32m~/UNIPD/Polimi_Thesis/IS_non_stationary_RL/policy/hyperpolicy_rl.py\u001b[0m in \u001b[0;36mtheta_mean\u001b[0;34m(self, t)\u001b[0m\n\u001b[1;32m    496\u001b[0m \u001b[0;34m\u001b[0m\u001b[0m\n\u001b[1;32m    497\u001b[0m     \u001b[0;32mdef\u001b[0m \u001b[0mtheta_mean\u001b[0m\u001b[0;34m(\u001b[0m\u001b[0mself\u001b[0m\u001b[0;34m,\u001b[0m \u001b[0mt\u001b[0m\u001b[0;34m)\u001b[0m\u001b[0;34m:\u001b[0m\u001b[0;34m\u001b[0m\u001b[0;34m\u001b[0m\u001b[0m\n\u001b[0;32m--> 498\u001b[0;31m         \u001b[0;32mreturn\u001b[0m \u001b[0mself\u001b[0m\u001b[0;34m.\u001b[0m\u001b[0mRBF_net\u001b[0m\u001b[0;34m(\u001b[0m\u001b[0mt\u001b[0m\u001b[0;34m)\u001b[0m\u001b[0;34m.\u001b[0m\u001b[0mreshape\u001b[0m\u001b[0;34m(\u001b[0m\u001b[0;34m-\u001b[0m\u001b[0;36m1\u001b[0m\u001b[0;34m,\u001b[0m \u001b[0mself\u001b[0m\u001b[0;34m.\u001b[0m\u001b[0mn_policy_params\u001b[0m\u001b[0;34m)\u001b[0m\u001b[0;34m\u001b[0m\u001b[0;34m\u001b[0m\u001b[0m\n\u001b[0m\u001b[1;32m    499\u001b[0m \u001b[0;34m\u001b[0m\u001b[0m\n\u001b[1;32m    500\u001b[0m     \u001b[0;32mdef\u001b[0m \u001b[0msample_policy\u001b[0m\u001b[0;34m(\u001b[0m\u001b[0mself\u001b[0m\u001b[0;34m,\u001b[0m \u001b[0mt\u001b[0m\u001b[0;34m)\u001b[0m\u001b[0;34m:\u001b[0m\u001b[0;34m\u001b[0m\u001b[0;34m\u001b[0m\u001b[0m\n",
      "\u001b[0;32m~/anaconda3/lib/python3.8/site-packages/torch/nn/modules/module.py\u001b[0m in \u001b[0;36m_call_impl\u001b[0;34m(self, *input, **kwargs)\u001b[0m\n\u001b[1;32m    880\u001b[0m \u001b[0;34m\u001b[0m\u001b[0m\n\u001b[1;32m    881\u001b[0m         \u001b[0mbw_hook\u001b[0m \u001b[0;34m=\u001b[0m \u001b[0;32mNone\u001b[0m\u001b[0;34m\u001b[0m\u001b[0;34m\u001b[0m\u001b[0m\n\u001b[0;32m--> 882\u001b[0;31m         \u001b[0;32mif\u001b[0m \u001b[0mlen\u001b[0m\u001b[0;34m(\u001b[0m\u001b[0mfull_backward_hooks\u001b[0m\u001b[0;34m)\u001b[0m \u001b[0;34m>\u001b[0m \u001b[0;36m0\u001b[0m\u001b[0;34m:\u001b[0m\u001b[0;34m\u001b[0m\u001b[0;34m\u001b[0m\u001b[0m\n\u001b[0m\u001b[1;32m    883\u001b[0m             \u001b[0mbw_hook\u001b[0m \u001b[0;34m=\u001b[0m \u001b[0mhooks\u001b[0m\u001b[0;34m.\u001b[0m\u001b[0mBackwardHook\u001b[0m\u001b[0;34m(\u001b[0m\u001b[0mself\u001b[0m\u001b[0;34m,\u001b[0m \u001b[0mfull_backward_hooks\u001b[0m\u001b[0;34m)\u001b[0m\u001b[0;34m\u001b[0m\u001b[0;34m\u001b[0m\u001b[0m\n\u001b[1;32m    884\u001b[0m             \u001b[0minput\u001b[0m \u001b[0;34m=\u001b[0m \u001b[0mbw_hook\u001b[0m\u001b[0;34m.\u001b[0m\u001b[0msetup_input_hook\u001b[0m\u001b[0;34m(\u001b[0m\u001b[0minput\u001b[0m\u001b[0;34m)\u001b[0m\u001b[0;34m\u001b[0m\u001b[0;34m\u001b[0m\u001b[0m\n",
      "\u001b[0;31mKeyboardInterrupt\u001b[0m: "
     ]
    }
   ],
   "source": [
    "\"\"\"\n",
    "# Define all arguments for 'optimize_single()' DAM-v0 and SinPolcy\n",
    "all_args = {\n",
    "    \n",
    "    # Parameters for each non-stationary process\n",
    "    'env_class': 'Dam-v0', 'hyperpolicy_class': 'hypol.SinPolicy', 'policy_class':'pol.LinearPolicy',\n",
    "    'sigma_theta_behavioural': 0.5,   'sigma_theta_init': 0.03,    #'sigma_c': 0,     \n",
    "    'A_theta_behavioural': 0.05,       'A_theta_init': 0.05,    # 'A_c': 1,      'A_r': 1,      \n",
    "    #'psi_theta_behavioural': 0,     'psi_theta_init': 0,      #'psi_c': 0,    'psi_r': 0,     \n",
    "    'phi_theta_behavioural': 0.03,   'phi_theta_init': 0.03,  #'phi_c': 0.1,  'phi_r': 0.1,  \n",
    "    #'B_theta_behavioural': 110,       'B_theta_init': 110,    # 'B_c': 0,       'B_r': 0,     \n",
    "    #'rbf_nodes': 20, 'sigma_rbf': 15, 'infer_centers': True, 'infer_stds': True, \n",
    "    \n",
    "    # Run options\n",
    "    'alpha': 1000,\n",
    "    'beta': 1,\n",
    "    'n_steps_sample': 1000,\n",
    "    'epochs_optim': 500,\n",
    "    'seeds': 1,\n",
    "    'save_folder': \"RL_results/RL_fixed_t/dam_SinPol_no-time_lr1e-3_sigtheta3e-2\",\n",
    "    #'save_folder': \"results/optimization/fixed_t/pytorch_RBF_test\",\n",
    "    \n",
    "    # Optimization settings\n",
    "    'optimizer_class': 'optim.RMSprop',\n",
    "    'learning_rate': 1e-3,\n",
    "    'grad_replicas': 5,\n",
    "    'lamb_J_1': 1,\n",
    "    'lamb_J_2': 0,\n",
    "    'lamb_v': 0,\n",
    "    'mean_reward': True,\n",
    "    'use_modulo': False,\n",
    "    'penalty_on': True\n",
    "}\n",
    "\"\"\"\n",
    "\n",
    "# Define all arguments for 'optimize_single()' DAM-v0 and RBFPolicy\n",
    "all_args = {\n",
    "    \n",
    "    # Parameters for each non-stationary process\n",
    "    'env_class': 'Dam-v0', 'hyperpolicy_class': 'hypol.RBFPolicy', 'policy_class':'pol.LinearNoBiasPolicy',\n",
    "    'sigma_theta_behavioural': 0.5,   'sigma_theta_init': 0.005,    #'sigma_c': 0,     \n",
    "    #'A_theta_behavioural': 0.05,       'A_theta_init': 0.05,    # 'A_c': 1,      'A_r': 1,      \n",
    "    #'psi_theta_behavioural': 0,     'psi_theta_init': 0,      #'psi_c': 0,    'psi_r': 0,     \n",
    "    #'phi_theta_behavioural': 0.03,   'phi_theta_init': 0.03,  #'phi_c': 0.1,  'phi_r': 0.1,  \n",
    "    #'B_theta_behavioural': 110,       'B_theta_init': 110,    # 'B_c': 0,       'B_r': 0,     \n",
    "    'rbf_nodes': 30, 'sigma_rbf': 30, 'infer_centers': True, 'infer_stds': True, \n",
    "    'alpha_env': 0.5,   'beta_env': 0.5, \n",
    "    \n",
    "    # Run options\n",
    "    'alpha': 1000,\n",
    "    'beta': 1,\n",
    "    'n_steps_sample': 1000,\n",
    "    'epochs_optim': 100,\n",
    "    'seeds': [1,2,3],\n",
    "    'save_folder': \"RL_results/RL_fixed_t/dam-infl7_RBF_NoBias_lr2e-3_sigtheta5e-3_learn-rbf_lin-scale-init2e-2_30rbf_30sigmarbf\",#_demand-005\",\n",
    "    #'save_folder': \"results/optimization/fixed_t/pytorch_RBF_test\",\n",
    "    \n",
    "    # Optimization settings\n",
    "    'optimizer_class': 'optim.RMSprop',\n",
    "    'learning_rate': 2e-3,\n",
    "    'grad_replicas': 50,\n",
    "    'lamb_J_1': 1,\n",
    "    'lamb_J_2': 1,\n",
    "    'lamb_v': 0,\n",
    "    'mean_reward': True,\n",
    "    'use_modulo': False,\n",
    "    'penalty_on': True\n",
    "}\n",
    "\n",
    "\n",
    "run_then_optimize( **all_args )"
   ]
  },
  {
   "cell_type": "code",
   "execution_count": 26,
   "metadata": {},
   "outputs": [
    {
     "name": "stderr",
     "output_type": "stream",
     "text": [
      "/home/francesco/anaconda3/lib/python3.8/site-packages/gym/logger.py:30: UserWarning: \u001b[33mWARN: Box bound precision lowered by casting to float32\u001b[0m\n",
      "  warnings.warn(colorize('%s: %s'%('WARN', msg % args), 'yellow'))\n",
      "05/24/2021 12:12:55: Sampling seed 11.\n",
      "05/24/2021 12:12:55: Optimize seed 11.\n",
      "  0%|          | 0/150 [00:00<?, ?it/s]../IS_non_stationary_RL/policy/hyperpolicy_rl.py:405: UserWarning: To copy construct from a tensor, it is recommended to use sourceTensor.clone().detach() or sourceTensor.clone().detach().requires_grad_(True), rather than torch.tensor(sourceTensor).\n",
      "  x = torch.tensor(x)\n",
      "100%|██████████| 150/150 [24:03<00:00,  9.62s/it]\n",
      "05/24/2021 12:36:58: Save seed 11.\n",
      "../IS_non_stationary_RL/policy/hyperpolicy_rl.py:405: UserWarning: To copy construct from a tensor, it is recommended to use sourceTensor.clone().detach() or sourceTensor.clone().detach().requires_grad_(True), rather than torch.tensor(sourceTensor).\n",
      "  x = torch.tensor(x)\n",
      "/home/francesco/anaconda3/lib/python3.8/site-packages/gym/logger.py:30: UserWarning: \u001b[33mWARN: Box bound precision lowered by casting to float32\u001b[0m\n",
      "  warnings.warn(colorize('%s: %s'%('WARN', msg % args), 'yellow'))\n",
      "05/24/2021 12:37:00: Sampling seed 22.\n",
      "05/24/2021 12:37:01: Optimize seed 22.\n",
      "  0%|          | 0/150 [00:00<?, ?it/s]../IS_non_stationary_RL/policy/hyperpolicy_rl.py:405: UserWarning: To copy construct from a tensor, it is recommended to use sourceTensor.clone().detach() or sourceTensor.clone().detach().requires_grad_(True), rather than torch.tensor(sourceTensor).\n",
      "  x = torch.tensor(x)\n",
      "100%|██████████| 150/150 [23:32<00:00,  9.41s/it]\n",
      "05/24/2021 13:00:33: Save seed 22.\n",
      "../IS_non_stationary_RL/policy/hyperpolicy_rl.py:405: UserWarning: To copy construct from a tensor, it is recommended to use sourceTensor.clone().detach() or sourceTensor.clone().detach().requires_grad_(True), rather than torch.tensor(sourceTensor).\n",
      "  x = torch.tensor(x)\n",
      "/home/francesco/anaconda3/lib/python3.8/site-packages/gym/logger.py:30: UserWarning: \u001b[33mWARN: Box bound precision lowered by casting to float32\u001b[0m\n",
      "  warnings.warn(colorize('%s: %s'%('WARN', msg % args), 'yellow'))\n",
      "05/24/2021 13:00:35: Sampling seed 33.\n",
      "05/24/2021 13:00:35: Optimize seed 33.\n",
      "  0%|          | 0/150 [00:00<?, ?it/s]../IS_non_stationary_RL/policy/hyperpolicy_rl.py:405: UserWarning: To copy construct from a tensor, it is recommended to use sourceTensor.clone().detach() or sourceTensor.clone().detach().requires_grad_(True), rather than torch.tensor(sourceTensor).\n",
      "  x = torch.tensor(x)\n",
      "100%|██████████| 150/150 [23:27<00:00,  9.38s/it]\n",
      "05/24/2021 13:24:03: Save seed 33.\n",
      "../IS_non_stationary_RL/policy/hyperpolicy_rl.py:405: UserWarning: To copy construct from a tensor, it is recommended to use sourceTensor.clone().detach() or sourceTensor.clone().detach().requires_grad_(True), rather than torch.tensor(sourceTensor).\n",
      "  x = torch.tensor(x)\n"
     ]
    }
   ],
   "source": [
    "# Define all arguments for 'optimize_single()' DAM-v0 and RBFPolicy9\n",
    "all_args = {\n",
    "    \n",
    "    # Parameters for each non-stationary process\n",
    "    'env_class': 'Dam-v0', 'hyperpolicy_class': 'hypol.RBFPolicy', 'policy_class':'pol.LinearPolicy',\n",
    "    'sigma_theta_behavioural': 0.5,   'sigma_theta_init': 0.01,    'sigma_theta_final': 0.003, #'sigma_c': 0,     \n",
    "    #'A_theta_behavioural': 0.05,       'A_theta_init': 0.05,    # 'A_c': 1,      'A_r': 1,      \n",
    "    #'psi_theta_behavioural': 0,     'psi_theta_init': 0,      #'psi_c': 0,    'psi_r': 0,     \n",
    "    #'phi_theta_behavioural': 0.03,   'phi_theta_init': 0.03,  #'phi_c': 0.1,  'phi_r': 0.1,  \n",
    "    #'B_theta_behavioural': 110,       'B_theta_init': 110,    # 'B_c': 0,       'B_r': 0,     \n",
    "    'rbf_nodes': 20, 'sigma_rbf': 30, 'infer_centers': True, 'infer_stds': True, \n",
    "    'alpha_env': 0.5,   'beta_env': 0.5, \n",
    "    \n",
    "    # Run options\n",
    "    'alpha': 1000,\n",
    "    'beta': 1,\n",
    "    'n_steps_sample': 1000,\n",
    "    'epochs_optim': 150,\n",
    "    'seeds': [11,22,33],\n",
    "    'save_folder': \"RL_results/RL_fixed_t/dam_RBF_no-time_lr5e-3_sigtheta1e-1->3e-3_50grads_learn-rbf_20rbf_30sigmarbf_EXP-DECAY-SIGTHETA\",#_demand-005\",\n",
    "    #'save_folder': \"results/optimization/fixed_t/pytorch_RBF_test\",\n",
    "    \n",
    "    # Optimization settings\n",
    "    'optimizer_class': 'optim.RMSprop',\n",
    "    'learning_rate': 5e-3,\n",
    "    'grad_replicas': 50,\n",
    "    'lamb_J_1': 1,\n",
    "    'lamb_J_2': 0,\n",
    "    'lamb_v': 0,\n",
    "    'mean_reward': True,\n",
    "    'use_modulo': False,\n",
    "    'penalty_on': True\n",
    "}\n",
    "\n",
    "\n",
    "run_then_optimize( **all_args )"
   ]
  },
  {
   "cell_type": "code",
   "execution_count": 51,
   "metadata": {},
   "outputs": [
    {
     "data": {
      "text/plain": [
       "57"
      ]
     },
     "execution_count": 51,
     "metadata": {},
     "output_type": "execute_result"
    }
   ],
   "source": [
    "x=2*np.pi\n",
    "x=np.arctan2(np.sin(x), np.cos(x))\n",
    "x = x + 2*np.pi if x<0 else x\n",
    "round( x*360 / (2*np.pi) )"
   ]
  },
  {
   "cell_type": "code",
   "execution_count": 6,
   "metadata": {},
   "outputs": [
    {
     "data": {
      "text/plain": [
       "[<matplotlib.lines.Line2D at 0x7f754c9fba60>]"
      ]
     },
     "execution_count": 6,
     "metadata": {},
     "output_type": "execute_result"
    },
    {
     "data": {
      "image/png": "[encoded data removed]",
      "text/plain": [
       "<Figure size 432x288 with 1 Axes>"
      ]
     },
     "metadata": {
      "needs_background": "light"
     },
     "output_type": "display_data"
    }
   ],
   "source": [
    "x = 0.1\n",
    "y = 0.005\n",
    "n_epochs = 130\n",
    "z = np.zeros(100)\n",
    "w = np.zeros(n_epochs)\n",
    "z[0] = x\n",
    "w[0] = x\n",
    "decay_1 = (0.01/x)**(1/100)\n",
    "decay_2 = (y/x)**(1/n_epochs)\n",
    "\n",
    "for i in range(1,100):\n",
    "    z[i] = z[i-1]*decay_1\n",
    "    #w[i] = ((100-i)*x + i*y)/100  \n",
    "for i in range(1,n_epochs):\n",
    "    w[i] = w[i-1]*decay_2\n",
    "#plt.plot(z)\n",
    "plt.ylabel(\"Sigma_theta\")\n",
    "plt.xlabel(\"Training epochs\")\n",
    "plt.plot(w)"
   ]
  },
  {
   "cell_type": "code",
   "execution_count": null,
   "metadata": {},
   "outputs": [],
   "source": []
  },
  {
   "cell_type": "code",
   "execution_count": 7,
   "metadata": {},
   "outputs": [
    {
     "name": "stderr",
     "output_type": "stream",
     "text": [
      "/home/francesco/anaconda3/lib/python3.8/site-packages/gym/logger.py:30: UserWarning: \u001b[33mWARN: Box bound precision lowered by casting to float32\u001b[0m\n",
      "  warnings.warn(colorize('%s: %s'%('WARN', msg % args), 'yellow'))\n",
      "05/28/2021 11:11:44: Sampling seed 1.\n",
      "05/28/2021 11:11:44: Optimize seed 1.\n",
      "100%|██████████| 150/150 [18:14<00:00,  7.30s/it]\n",
      "05/28/2021 11:29:59: Save seed 1.\n",
      "/home/francesco/anaconda3/lib/python3.8/site-packages/gym/logger.py:30: UserWarning: \u001b[33mWARN: Box bound precision lowered by casting to float32\u001b[0m\n",
      "  warnings.warn(colorize('%s: %s'%('WARN', msg % args), 'yellow'))\n",
      "05/28/2021 11:30:01: Sampling seed 2.\n",
      "05/28/2021 11:30:01: Optimize seed 2.\n",
      "100%|██████████| 150/150 [18:30<00:00,  7.41s/it]\n",
      "05/28/2021 11:48:32: Save seed 2.\n",
      "/home/francesco/anaconda3/lib/python3.8/site-packages/gym/logger.py:30: UserWarning: \u001b[33mWARN: Box bound precision lowered by casting to float32\u001b[0m\n",
      "  warnings.warn(colorize('%s: %s'%('WARN', msg % args), 'yellow'))\n",
      "05/28/2021 11:48:34: Sampling seed 3.\n",
      "05/28/2021 11:48:34: Optimize seed 3.\n",
      "100%|██████████| 150/150 [18:11<00:00,  7.28s/it]\n",
      "05/28/2021 12:06:46: Save seed 3.\n"
     ]
    }
   ],
   "source": [
    "\n",
    "# Define all arguments for 'optimize_single()' DAM-v0 and MULTISIN\n",
    "all_args = {\n",
    "    \n",
    "    # Parameters for each non-stationary process\n",
    "    'env_class': 'Dam-v0', 'hyperpolicy_class': 'hypol.MultisinPolicy', 'policy_class':'pol.LinearPolicy',\n",
    "    'sigma_theta_behavioural': 0.5,   'sigma_theta_init': 0.005,    #'sigma_c': 0,     \n",
    "    'A_theta_behavioural': 0.05,       'A_theta_init': 0.05,    # 'A_c': 1,      'A_r': 1,      \n",
    "    #'psi_theta_behavioural': 0,     'psi_theta_init': 0,      #'psi_c': 0,    'psi_r': 0,     \n",
    "    'phi_theta_behavioural': 0.03,   'phi_theta_init': 0.03,   #'phi_c': 0.1,  'phi_r': 0.1,  \n",
    "    #'B_theta_behavioural': 110,       'B_theta_init': 110,    # 'B_c': 0,       'B_r': 0,     \n",
    "    'rbf_nodes': 20, 'sigma_rbf': 30, 'infer_centers': True, 'infer_stds': True, \n",
    "    'alpha_env': 0.5,   'beta_env': 0.5, \n",
    "    \n",
    "    # Run options\n",
    "    'alpha': 1000,\n",
    "    'beta': 1,\n",
    "    'n_steps_sample': 1000,\n",
    "    'epochs_optim': 150,\n",
    "    'seeds': [1,2,3],\n",
    "    'save_folder': \"RL_results/RL_fixed_t/4-SinPolicy_test\",\n",
    "    #'save_folder': \"results/optimization/fixed_t/pytorch_RBF_test\",\n",
    "    \n",
    "    # Optimization settings\n",
    "    'optimizer_class': 'optim.RMSprop',\n",
    "    'learning_rate': 1e-3,\n",
    "    'grad_replicas': 50,\n",
    "    'lamb_J_1': 1,\n",
    "    'lamb_J_2': 0,\n",
    "    'lamb_v': 0,\n",
    "    'mean_reward': True,\n",
    "    'use_modulo': False,\n",
    "    'penalty_on': True\n",
    "}\n",
    "\n",
    "\n",
    "run_then_optimize( **all_args )"
   ]
  },
  {
   "cell_type": "code",
   "execution_count": 15,
   "metadata": {},
   "outputs": [
    {
     "name": "stderr",
     "output_type": "stream",
     "text": [
      "/home/francesco/anaconda3/lib/python3.8/site-packages/gym/logger.py:30: UserWarning: \u001b[33mWARN: Box bound precision lowered by casting to float32\u001b[0m\n",
      "  warnings.warn(colorize('%s: %s'%('WARN', msg % args), 'yellow'))\n"
     ]
    },
    {
     "data": {
      "image/png": "[encoded data removed]",
      "text/plain": [
       "<Figure size 432x288 with 1 Axes>"
      ]
     },
     "metadata": {
      "needs_background": "light"
     },
     "output_type": "display_data"
    }
   ],
   "source": [
    "import gym\n",
    "\n",
    "env = gym.make('Dam-v0')\n",
    "inflows = env._get_inflow_1()\n",
    "\n",
    "#plt.plot(inflows)\n",
    "\n",
    "storage = np.zeros(300)  \n",
    "storage[0] = 50\n",
    "for i in range(1,300):\n",
    "    storage[i] = storage[i-1] + inflows[i] - 10\n",
    "    \n",
    "plt.plot(inflows)\n",
    "#plt.title(\"  -  Profile 7\")\n",
    "plt.ylabel(\"Inflow profile 1\")\n",
    "plt.xlabel(\"Day of the year\")\n",
    "plt.show()"
   ]
  },
  {
   "cell_type": "markdown",
   "metadata": {},
   "source": [
    "# TESTS FOR THESIS"
   ]
  },
  {
   "cell_type": "code",
   "execution_count": 1,
   "metadata": {},
   "outputs": [],
   "source": [
    "# autoreload allows to update modules without resetting the kernel \n",
    "%load_ext autoreload\n",
    "%autoreload 2"
   ]
  },
  {
   "cell_type": "code",
   "execution_count": 2,
   "metadata": {},
   "outputs": [],
   "source": [
    "import numpy as np\n",
    "import matplotlib.pyplot as plt\n",
    "\n",
    "### Import funtion that \"does everything\"\n",
    "import sys, os, datetime\n",
    "sys.path.insert(1, '../IS_non_stationary_RL/')\n",
    "\n",
    "from optimize_pytorch import run_then_optimize, intertwine_run_optimize"
   ]
  },
  {
   "cell_type": "code",
   "execution_count": null,
   "metadata": {},
   "outputs": [
    {
     "name": "stderr",
     "output_type": "stream",
     "text": [
      "06/05/2021 10:38:00: Sampling seed 1.\n",
      "06/05/2021 10:38:00: Optimize seed 1.\n",
      "  0%|          | 0/500 [00:00<?, ?it/s]../IS_non_stationary_RL/policy/hyperpolicy_pytorch.py:499: UserWarning: To copy construct from a tensor, it is recommended to use sourceTensor.clone().detach() or sourceTensor.clone().detach().requires_grad_(True), rather than torch.tensor(sourceTensor).\n",
      "  x = torch.tensor(x)\n",
      "  7%|▋         | 34/500 [00:40<09:03,  1.17s/it]"
     ]
    }
   ],
   "source": [
    "# Define all arguments for 'optimize_single()' DAM-v0 and MULTISIN\n",
    "all_args = {\n",
    "    \n",
    "    # Parameters for each non-stationary process\n",
    "    'env_class': 'cbenv.PeriodicBandit', 'hyperpolicy_class': 'hypol.RBF_Policy', #'policy_class':'pol.CategoricalPolicy',\n",
    "    'sigma_theta_behavioural': 0.1,   'sigma_theta_init': 0.1,  'sigma_c': 0.5,     \n",
    "    'A_theta_behavioural':1,       'A_theta_init': 1,         'A_c': 1,      'A_r': 1,      \n",
    "    'psi_theta_behavioural': 0.2,     'psi_theta_init': 0.2,       'psi_c': 0,    'psi_r': 0,     \n",
    "    'phi_theta_behavioural': 0.1,   'phi_theta_init': 0.115,   'phi_c': 0.1,  'phi_r': 0.1,  \n",
    "    'B_theta_behavioural': 0,       'B_theta_init': 0,     'B_c': 0,       'B_r': 0,     \n",
    "    'rbf_nodes': 20, 'sigma_rbf': 15, 'infer_centers': True, 'infer_stds': True, \n",
    "    #'alpha_env': 0.5,   'beta_env': 0.5, \n",
    "    \n",
    "    # Run options\n",
    "    'alpha': 250,\n",
    "    'beta': 25,\n",
    "    'n_steps_sample': 250,\n",
    "    'epochs_optim': 500,\n",
    "    'seeds': [1],\n",
    "    'save_folder': \"thesis_results/periodic_RBFpol_opt(1,1,5e-2)_25beta_lr1e-2_5grads_1000epochs_20rbfnod_15rbfsig\",\n",
    "    #'save_folder': \"thesis_results/test\",\n",
    "    \n",
    "    # Optimization settings\n",
    "    'optimizer_class': 'optim.RMSprop',\n",
    "    'learning_rate': 1e-2,\n",
    "    'grad_replicas': 5,\n",
    "    'lamb_J_1': 1,\n",
    "    'lamb_J_2': 1,\n",
    "    'lamb_v': 0.05,\n",
    "    'mean_reward': True,\n",
    "    'use_modulo': False,\n",
    "    'two_step_min_psi': True,\n",
    "    #'penalty_on': True\n",
    "}\n",
    "\n",
    "\n",
    "run_then_optimize( **all_args )"
   ]
  },
  {
   "cell_type": "code",
   "execution_count": null,
   "metadata": {},
   "outputs": [],
   "source": []
  },
  {
   "cell_type": "code",
   "execution_count": null,
   "metadata": {},
   "outputs": [],
   "source": []
  }
 ],
 "metadata": {
  "kernelspec": {
   "display_name": "Python 3",
   "language": "python",
   "name": "python3"
  },
  "language_info": {
   "codemirror_mode": {
    "name": "ipython",
    "version": 3
   },
   "file_extension": ".py",
   "mimetype": "text/x-python",
   "name": "python",
   "nbconvert_exporter": "python",
   "pygments_lexer": "ipython3",
   "version": "3.8.3"
  }
 },
 "nbformat": 4,
 "nbformat_minor": 4
}
